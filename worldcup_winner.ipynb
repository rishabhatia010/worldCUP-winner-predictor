{
 "cells": [
  {
   "attachments": {},
   "cell_type": "markdown",
   "metadata": {},
   "source": [
    "Here, we use libraries like Pandas, Numpy, Sklearn."
   ]
  },
  {
   "cell_type": "code",
   "execution_count": 2,
   "metadata": {},
   "outputs": [],
   "source": [
    "import pandas as pd\n",
    "import numpy as np\n",
    "import matplotlib.pyplot as plt\n",
    "import seaborn as sns\n",
    "from sklearn.model_selection import train_test_split\n",
    "from sklearn.linear_model import LogisticRegression"
   ]
  },
  {
   "attachments": {},
   "cell_type": "markdown",
   "metadata": {},
   "source": [
    "Reading CSV files"
   ]
  },
  {
   "cell_type": "code",
   "execution_count": null,
   "metadata": {},
   "outputs": [],
   "source": [
    "world_cup=pd.read_csv('World Cup 2019 Dataset.csv')\n",
    "result=pd.read_csv('results.csv')\n",
    "fixtures=pd.read_csv('fixtures.csv')\n",
    "ranking=pd.read_csv('icc_rankings.csv')"
   ]
  },
  {
   "attachments": {},
   "cell_type": "markdown",
   "metadata": {},
   "source": [
    "World_cup.csv has the previous data of all teams"
   ]
  },
  {
   "cell_type": "code",
   "execution_count": null,
   "metadata": {},
   "outputs": [],
   "source": [
    "world_cup.head()"
   ]
  },
  {
   "attachments": {},
   "cell_type": "markdown",
   "metadata": {},
   "source": [
    "Fixtures have scedules for WorldCup"
   ]
  },
  {
   "cell_type": "code",
   "execution_count": null,
   "metadata": {},
   "outputs": [],
   "source": [
    "fixtures.head()"
   ]
  },
  {
   "attachments": {},
   "cell_type": "markdown",
   "metadata": {},
   "source": [
    "The ranking file has the current ranking and point of all teams."
   ]
  },
  {
   "cell_type": "code",
   "execution_count": null,
   "metadata": {},
   "outputs": [],
   "source": [
    "ranking.head()"
   ]
  },
  {
   "attachments": {},
   "cell_type": "markdown",
   "metadata": {},
   "source": [
    "Displaying Games Played by India"
   ]
  },
  {
   "cell_type": "code",
   "execution_count": null,
   "metadata": {},
   "outputs": [],
   "source": [
    "india=result[(result['Team_1']=='India')|(result['Team_2']=='India')]\n",
    "india.head()"
   ]
  },
  {
   "attachments": {},
   "cell_type": "markdown",
   "metadata": {},
   "source": [
    "Selecting the Teams participating in the WorldCup"
   ]
  },
  {
   "cell_type": "code",
   "execution_count": null,
   "metadata": {},
   "outputs": [],
   "source": [
    "World_cup_teams=['England', ' South Africa', 'West Indies', 'Pakistan', 'New Zealand', 'Sri Lanka', 'Afghanistan', 'Australia', 'Bangladesh', 'India']\n",
    "team1=result[result['Team_1'].isin(World_cup_teams)]\n",
    "team2=result[result['Team_2'].isin(World_cup_teams)]\n",
    "teams=pd.concat((team1,team2))\n",
    "teams=teams.drop_duplicates()"
   ]
  },
  {
   "attachments": {},
   "cell_type": "markdown",
   "metadata": {},
   "source": [
    "Dropping Unnecessary colums"
   ]
  },
  {
   "cell_type": "code",
   "execution_count": null,
   "metadata": {},
   "outputs": [],
   "source": [
    "team_result=teams.drop(['date','Margin','Ground'],axis=1)\n",
    "team_result.head()"
   ]
  },
  {
   "attachments": {},
   "cell_type": "markdown",
   "metadata": {},
   "source": [
    "Transforming Data into useful information"
   ]
  },
  {
   "cell_type": "code",
   "execution_count": null,
   "metadata": {},
   "outputs": [],
   "source": [
    "final_result= pd.get_dummies(team_result, prefix=['Team_1', 'Team_2'], columns=['Team_1', 'Team_2'])\n",
    "final_result.head()"
   ]
  },
  {
   "attachments": {},
   "cell_type": "markdown",
   "metadata": {},
   "source": [
    "# BUILDING MODEL"
   ]
  },
  {
   "attachments": {},
   "cell_type": "markdown",
   "metadata": {},
   "source": [
    "Splitting the Data into testing and training data"
   ]
  },
  {
   "cell_type": "code",
   "execution_count": null,
   "metadata": {},
   "outputs": [],
   "source": [
    "X=final_result.drop(['Winner'],axis=1)\n",
    "y=final_result['Winner']\n",
    "X_train,X_test,y_train,y_test=train_test_split(X,y,test_size=0.30,random_state=42)"
   ]
  },
  {
   "attachments": {},
   "cell_type": "markdown",
   "metadata": {},
   "source": [
    "Initializing model and fitting data into it. Finding scores of train and test data."
   ]
  },
  {
   "cell_type": "code",
   "execution_count": null,
   "metadata": {},
   "outputs": [],
   "source": [
    "model=LogisticRegression()\n",
    "model.fit(X_train,y_train)\n",
    "train_score=model.score(X_train,y_train)\n",
    "test_score=model.score(X_test,y_test)\n",
    "print(\"Traning accuracy: \",train_score)\n",
    "print(\"Testing accuracy: \",test_score)"
   ]
  },
  {
   "attachments": {},
   "cell_type": "markdown",
   "metadata": {},
   "source": [
    "# PREDICTING THE WINNER\n",
    "For predicting, we make a function. This function can use in any tournament. Here, we use it for world cup 2023. Breaking the function in small to understand function better"
   ]
  },
  {
   "attachments": {},
   "cell_type": "markdown",
   "metadata": {},
   "source": [
    "Adding the position of both the team in fixtures."
   ]
  },
  {
   "cell_type": "code",
   "execution_count": null,
   "metadata": {},
   "outputs": [],
   "source": [
    "fixtures.insert(1,'Team_1_position',fixtures['Team_1'].map(ranking.set_index('Team')['Position']))\n",
    "fixtures.insert(2,'Team_2_position',fixtures['Team_2'].map(ranking.set_index('Team')['Position']))\n",
    "fixture=fixtures.iloc[:45,:]\n",
    "fixture.head()"
   ]
  },
  {
   "attachments": {},
   "cell_type": "markdown",
   "metadata": {},
   "source": [
    "Transforming fixture in useful information. Adding some additional columns with value 0."
   ]
  },
  {
   "cell_type": "code",
   "execution_count": null,
   "metadata": {},
   "outputs": [],
   "source": [
    "final_set=fixture[['Team_1','Team_2']]\n",
    "final_set = pd.get_dummies(final_set, prefix=['Team_1', 'Team_2'], columns=['Team_1', 'Team_2'])\n",
    "for col in (set(final_result.columns)-set(final_set.columns)):\n",
    "    final_set[col]=0\n",
    "final_set=final_set.sort_index(axis=1)\n",
    "final_set=final_set.drop(['Winner'],axis=1)"
   ]
  },
  {
   "attachments": {},
   "cell_type": "markdown",
   "metadata": {},
   "source": [
    "Predicting the winner of group stage matches and knocout matches"
   ]
  },
  {
   "cell_type": "code",
   "execution_count": null,
   "metadata": {},
   "outputs": [],
   "source": [
    "#predict winner\n",
    "prediction=model.predict(final_set)          \n",
    "    \n",
    "#Results from League mathes \n",
    "if match_type == 'League':\n",
    "        print(\"League Matches\")\n",
    "        \n",
    "        final_fixture=fixtures[0:45]\n",
    "        for index,tuples in final_fixture.iterrows():\n",
    "            print(\"Teams: \" + tuples['Team_1']+ \" and \" + tuples['Team_2'])\n",
    "            print(\"Winner: \"+ prediction[index])\n",
    "            fixtures['Result'].iloc[index]=prediction[index]\n",
    "    \n",
    "        Semi_final_teams=[]\n",
    "        for i in range(4):\n",
    "            Semi_final_teams.append(fixture['Result'].value_counts().index[i])   \n",
    "        matches=[(Semi_final_teams[0],Semi_final_teams[3]),(Semi_final_teams[1],Semi_final_teams[2])]\n",
    "        match_type=\"Semi-Final\"\n",
    "        predict_result(matches,final_result,ranking,model,match_type)\n",
    "#Result from semi-final\n",
    "elif match_type == 'Semi-Final':\n",
    "        print(\"\\nSemi-Final Matches\")\n",
    "        final_fixture=fixtures[45:47]\n",
    "        for index,tuples in final_fixture.iterrows():\n",
    "            fixtures['Team_1'].iloc[index]=final['Team_1'].iloc[index-45]\n",
    "            fixtures['Team_2'].iloc[index]=final['Team_2'].iloc[index-45]\n",
    "            fixtures['Team_1_position'].iloc[index]=team_position[index-45][0]\n",
    "            fixtures['Team_2_position'].iloc[index]=team_position[index-45][1]\n",
    "        final_fixture=fixtures[45:47]\n",
    "        for index,tuples in final_fixture.iterrows():\n",
    "            print(\"Teams: \" + tuples['Team_1']+ \" and \" + tuples['Team_2'])\n",
    "            print(\"Winner: \"+ prediction[index-45])\n",
    "            fixtures['Result'].iloc[index]=prediction[index-45]    \n",
    "        matches=[(prediction[0],prediction[1])]\n",
    "        match_type=\"Final\"\n",
    "        predict_result(matches,final_result,ranking,model,match_type)\n",
    "#Result of Final     \n",
    "elif match_type == 'Final':\n",
    "        print(\"\\nFinal Match\")\n",
    "        final_fixture=fixtures[47:48]\n",
    "        for index,tuples in final_fixture.iterrows():\n",
    "            fixtures['Team_1'].iloc[index]=final['Team_1'].iloc[index-47]\n",
    "            fixtures['Team_2'].iloc[index]=final['Team_2'].iloc[index-47]\n",
    "            fixtures['Team_1_position'].iloc[index]=team_position[index-47][0]\n",
    "            fixtures['Team_2_position'].iloc[index]=team_position[index-47][1]\n",
    "        final_fixture=fixtures[47:48]\n",
    "        for index,tuples in final_fixture.iterrows():\n",
    "            print(\"Teams: \" + tuples['Team_1']+ \" and \" + tuples['Team_2'])\n",
    "            print(\"Winner: \"+ prediction[0]+\"\\n\")\n",
    "            fixtures['Result'].iloc[index]=prediction[index-47]\n",
    "        print(\"Winner Of the tournament is: \" + fixtures['Result'].iloc[47])"
   ]
  },
  {
   "attachments": {},
   "cell_type": "markdown",
   "metadata": {},
   "source": [
    "# It can use to predict the following items.\n",
    "\n",
    "1.  League, semi-final and final matches.\n",
    "\n",
    "2. the semi-final and final matches.\n",
    "\n",
    "3. Final matches."
   ]
  }
 ],
 "metadata": {
  "kernelspec": {
   "display_name": "Python 3",
   "language": "python",
   "name": "python3"
  },
  "language_info": {
   "codemirror_mode": {
    "name": "ipython",
    "version": 3
   },
   "file_extension": ".py",
   "mimetype": "text/x-python",
   "name": "python",
   "nbconvert_exporter": "python",
   "pygments_lexer": "ipython3",
   "version": "3.11.4"
  },
  "orig_nbformat": 4
 },
 "nbformat": 4,
 "nbformat_minor": 2
}
